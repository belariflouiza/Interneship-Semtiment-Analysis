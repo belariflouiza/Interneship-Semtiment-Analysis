{
  "nbformat": 4,
  "nbformat_minor": 0,
  "metadata": {
    "colab": {
      "provenance": []
    },
    "kernelspec": {
      "name": "python3",
      "display_name": "Python 3"
    },
    "language_info": {
      "name": "python"
    }
  },
  "cells": [
    {
      "cell_type": "code",
      "source": [
        "pip install python-docx pandas\n"
      ],
      "metadata": {
        "id": "U4Kz-tRfFV-K"
      },
      "execution_count": null,
      "outputs": []
    },
    {
      "cell_type": "markdown",
      "source": [
        "**Transformer le fichier word en excel**"
      ],
      "metadata": {
        "id": "Di3o9UDTGLlO"
      }
    },
    {
      "cell_type": "code",
      "source": [
        "\n",
        "\n",
        "from docx import Document\n",
        "import pandas as pd\n",
        "\n",
        "\n",
        "doc_path = \"/content/lozz.docx\"\n",
        "document = Document(doc_path)\n",
        "\n",
        "\n",
        "paragraphs = [para.text for para in document.paragraphs if para.text.strip() != \"\"]\n",
        "\n",
        "# faut revoir des trucs à la main pour corriger sinn prévoir un script perl pour plus tard\n",
        "df = pd.DataFrame(paragraphs, columns=[\"Paragraph\"])\n",
        "\n",
        "\n",
        "excel_path = \"/content/lozz.xlsx\"\n",
        "df.to_excel(excel_path, index=False)\n",
        "\n",
        "print(f\"Conversion terminée. Le fichier Excel est sauvegardé sous {excel_path}\")"
      ],
      "metadata": {
        "id": "D1EWlI5gFhK4"
      },
      "execution_count": null,
      "outputs": []
    },
    {
      "cell_type": "markdown",
      "source": [
        "**Supprimer les questions en gras**\n",
        "\n",
        "Dans certains questionnaireson trouve les questions en gras ensuite les réponse, pour extraire uniquement les réponse on peut utiliser ce code puis transformer le fichier excel en csv."
      ],
      "metadata": {
        "id": "RDwiE_7LFnOc"
      }
    },
    {
      "cell_type": "code",
      "source": [
        "from docx import Document\n",
        "import pandas as pd\n",
        "\n",
        "doc_path = \"/content/lozz.docx\"\n",
        "document = Document(doc_path)\n",
        "\n",
        "def has_bold_text(paragraph):\n",
        "    for run in paragraph.runs:\n",
        "        if run.bold:\n",
        "            return True\n",
        "    return False\n",
        "\n",
        "paragraphs = [para.text for para in document.paragraphs if not has_bold_text(para) and para.text.strip() != \"\"]\n",
        "\n",
        "df = pd.DataFrame(paragraphs, columns=[\"Paragraph\"])\n",
        "\n",
        "excel_path = \"/content/lozz.xlsx\"\n",
        "df.to_excel(excel_path, index=False)\n",
        "\n",
        "print(f\"Conversion terminée. Le fichier Excel est sauvegardé sous {excel_path}\")\n"
      ],
      "metadata": {
        "colab": {
          "base_uri": "https://localhost:8080/"
        },
        "id": "sJeoyyFx6ug3",
        "outputId": "68cd739b-65ac-46f1-de2e-e6d29eedc120"
      },
      "execution_count": 8,
      "outputs": [
        {
          "output_type": "stream",
          "name": "stdout",
          "text": [
            "Conversion terminée. Le fichier Excel est sauvegardé sous /content/lozz.xlsx\n"
          ]
        }
      ]
    }
  ]
}